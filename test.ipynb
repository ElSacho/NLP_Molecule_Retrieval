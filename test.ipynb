{
 "cells": [
  {
   "cell_type": "code",
   "execution_count": 1,
   "metadata": {},
   "outputs": [],
   "source": [
    "from torch.utils.data import DataLoader as TorchDataLoader\n",
    "import numpy as np\n",
    "from transformers import AutoTokenizer\n",
    "import torch\n",
    "from torch import optim\n",
    "import time\n",
    "import os\n",
    "import pandas as pd\n",
    "    "
   ]
  },
  {
   "cell_type": "code",
   "execution_count": 15,
   "metadata": {},
   "outputs": [],
   "source": [
    "def process_graph(raw_path, gt):\n",
    "      edge_index  = []\n",
    "      x = []\n",
    "      with open(raw_path, 'r') as f:\n",
    "        next(f)\n",
    "        for line in f: \n",
    "          if line != \"\\n\":\n",
    "            edge = *map(int, line.split()), \n",
    "            edge_index.append(edge)\n",
    "          else:\n",
    "            break\n",
    "        next(f)\n",
    "        for line in f: #get mol2vec features:\n",
    "          substruct_id = line.strip().split()[-1]\n",
    "          if substruct_id in gt.keys():\n",
    "            x.append(gt[substruct_id])\n",
    "            print(type(gt[substruct_id]))\n",
    "            print(gt[substruct_id].shape)\n",
    "  \n",
    "          else:\n",
    "            x.append(gt['UNK'])\n",
    "        return torch.LongTensor(edge_index).T, torch.FloatTensor(x)"
   ]
  },
  {
   "cell_type": "code",
   "execution_count": 34,
   "metadata": {},
   "outputs": [
    {
     "name": "stdout",
     "output_type": "stream",
     "text": [
      "<class 'dict'>\n"
     ]
    }
   ],
   "source": [
    "gt = np.load(\"/Users/potosacho/Desktop/MVA/P1/Altegrad/challenge/NLP_Molecule_Retrieval/Public/data/token_embedding_dict.npy\", allow_pickle=True)[()]\n",
    "print(type(gt))"
   ]
  },
  {
   "cell_type": "code",
   "execution_count": 23,
   "metadata": {},
   "outputs": [
    {
     "name": "stdout",
     "output_type": "stream",
     "text": [
      "<class 'numpy.ndarray'>\n",
      "(300,)\n",
      "<class 'numpy.ndarray'>\n",
      "(300,)\n",
      "<class 'numpy.ndarray'>\n",
      "(300,)\n",
      "<class 'numpy.ndarray'>\n",
      "(300,)\n",
      "<class 'numpy.ndarray'>\n",
      "(300,)\n",
      "<class 'numpy.ndarray'>\n",
      "(300,)\n",
      "<class 'numpy.ndarray'>\n",
      "(300,)\n",
      "<class 'numpy.ndarray'>\n",
      "(300,)\n",
      "<class 'numpy.ndarray'>\n",
      "(300,)\n",
      "<class 'numpy.ndarray'>\n",
      "(300,)\n",
      "<class 'numpy.ndarray'>\n",
      "(300,)\n",
      "<class 'numpy.ndarray'>\n",
      "(300,)\n",
      "<class 'numpy.ndarray'>\n",
      "(300,)\n",
      "<class 'numpy.ndarray'>\n",
      "(300,)\n"
     ]
    }
   ],
   "source": [
    "edges, substruct = process_graph(\"/Users/potosacho/Desktop/MVA/P1/Altegrad/challenge/NLP_Molecule_Retrieval/Public/data/raw/1.graph\", gt)"
   ]
  },
  {
   "cell_type": "code",
   "execution_count": 26,
   "metadata": {},
   "outputs": [
    {
     "name": "stdout",
     "output_type": "stream",
     "text": [
      "torch.Size([2, 26])\n"
     ]
    }
   ],
   "source": [
    "print(edges.shape)"
   ]
  },
  {
   "cell_type": "code",
   "execution_count": 39,
   "metadata": {},
   "outputs": [
    {
     "name": "stdout",
     "output_type": "stream",
     "text": [
      "<class 'list'>\n",
      "3753451792\n"
     ]
    }
   ],
   "source": [
    "# gt = gt.set_index(0).to_dict()\n",
    "cids = list(gt.keys())\n",
    "\n",
    "print(type(cids))\n",
    "print(cids[3])"
   ]
  },
  {
   "cell_type": "code",
   "execution_count": 41,
   "metadata": {},
   "outputs": [
    {
     "ename": "KeyError",
     "evalue": "'743'",
     "output_type": "error",
     "traceback": [
      "\u001b[0;31m---------------------------------------------------------------------------\u001b[0m",
      "\u001b[0;31mKeyError\u001b[0m                                  Traceback (most recent call last)",
      "\u001b[1;32m/Users/potosacho/Desktop/MVA/P1/Altegrad/challenge/NLP_Molecule_Retrieval/Public/test.ipynb Cell 7\u001b[0m line \u001b[0;36m<cell line: 1>\u001b[0;34m()\u001b[0m\n\u001b[0;32m----> <a href='vscode-notebook-cell:/Users/potosacho/Desktop/MVA/P1/Altegrad/challenge/NLP_Molecule_Retrieval/Public/test.ipynb#X11sZmlsZQ%3D%3D?line=0'>1</a>\u001b[0m \u001b[39mprint\u001b[39m(gt[\u001b[39m'\u001b[39;49m\u001b[39m743\u001b[39;49m\u001b[39m'\u001b[39;49m])\n",
      "\u001b[0;31mKeyError\u001b[0m: '743'"
     ]
    }
   ],
   "source": [
    "print(gt['743'])"
   ]
  },
  {
   "cell_type": "code",
   "execution_count": null,
   "metadata": {},
   "outputs": [],
   "source": []
  }
 ],
 "metadata": {
  "kernelspec": {
   "display_name": "Python 3",
   "language": "python",
   "name": "python3"
  },
  "language_info": {
   "codemirror_mode": {
    "name": "ipython",
    "version": 3
   },
   "file_extension": ".py",
   "mimetype": "text/x-python",
   "name": "python",
   "nbconvert_exporter": "python",
   "pygments_lexer": "ipython3",
   "version": "3.9.5"
  }
 },
 "nbformat": 4,
 "nbformat_minor": 2
}
